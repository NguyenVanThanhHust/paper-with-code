{
 "cells": [
  {
   "cell_type": "code",
   "execution_count": 1,
   "id": "50f9c8a3",
   "metadata": {},
   "outputs": [],
   "source": [
    "import numpy as np\n",
    "import matplotlib.pyplot as plt"
   ]
  },
  {
   "cell_type": "markdown",
   "id": "0ba82e44-39fa-4bca-b709-21aafd8135eb",
   "metadata": {},
   "source": [
    "Kalman filter is an algorithm to predict state of the a dynamic system from initial state and noisy measurements. For object tracking, initial state would be object location, velocity of objects in first frame, noisy measurements are location of objects in following frames. We will present it following format: Concept, Math and Code"
   ]
  },
  {
   "cell_type": "markdown",
   "id": "25a3e771-6854-4e7a-9b80-6de2ed2d9d5e",
   "metadata": {},
   "source": [
    "Kalman filter have 2 steps: prediction and update   \n"
   ]
  },
  {
   "cell_type": "markdown",
   "id": "2b023bf0-1dc3-4f55-977e-20e47fabd891",
   "metadata": {},
   "source": [
    "**Predictions**   \n",
    "In this step, algorithm will predict next state of system based on current state. Each state would be presented as a vector and the covariance of it. Because \n",
    "\n",
    "**Update**  \n",
    "In this step, algorigthm get the new measurement and \"update\" predictions. \n"
   ]
  },
  {
   "cell_type": "markdown",
   "id": "f2682e86-1dee-4f64-ad58-54b72be8d4b1",
   "metadata": {},
   "source": [
    "## Math\n",
    "In SORT, state of an object is an vector includes its location and velocity.  $x = [cx, cy, s, r, \\dot cx, \\dot cy, \\dot s, \\dot r]$. Where  \n",
    "- $cx, cy$: center coordinates of the bounding box\n",
    "- $s$: the area of the bounding box\n",
    "- $r$: the ration of width/height\n",
    "- $\\dot cx, \\dot cy, \\dot s, \\dot r$: velocity (rate of change) of above components\n",
    "\n",
    "We would use following notation for the rest of post\n",
    "- $x_{t} \\in R^{n}$: state vector at timestep $t$\n",
    "- $z_{t} \\in R^{m}$: measurement vector at timestep $t$. In our case, it would be location of bounding box. We don't have velocity as in state because we don't measurement veloctiy\n",
    "- $F \\in R^{n \\times n}$: state transition matrix. $F$ represent how state changes by time.\n",
    "- $P \\in R^{n \\times n}$: covariance matrix to represent uncerntainty of state vector.\n",
    "- $H \\in R^{m \\times n}$: observation matrix. This matrix would mapping from state vector to measurement vector. In our case, lower half would be zero matrix because we don't measure velocity\n",
    "- $Q \\in R^{n \\times n}$: noise covariance matrix. This matrix is to represent randomness of the model\n",
    "- $R_{t} \\in R^{m \\times m}$: measurement noise covariance matrix to represent the uncertainty of measurement\n",
    "- $x_{t|t-1}, P_{t|t-1}$: priori state\n",
    "- $x_{t|t}, P_{t|t}$: posterior state\n",
    "### Predictions\n",
    "In this step, we need to predict current state and the covariance of the predicted state. \n",
    "#### Predict state:\n",
    "Predict the next state: The new state $\\hat x_{t|t-1}$ is predicted from the previous state  \n",
    "$\\hat x_{t-1|t-1}$ using a state transition model matrix $F$:  \n",
    "$$\\hat{x}_{t|t-1} = \\mathbf{F} {x}_{t-1|t-1}$$\n",
    "\n",
    "#### Predict covariance\n",
    "Predict the new uncertainty: The new uncertainty covariance matrix $P_{t|t-1}$ is predicted using the previous covariance matrix $P_{t-1|t-1}$  and a process noise covariance matrix Q. Q accounts for unmodeled accelerations or other random disturbances.\n",
    "$$P_{t|t-1} = F P_{t-1|t-1} F^{T} + Q$$\n",
    "  \n",
    "### Update steps\n",
    "Calculate the Kalman gain (K): The Kalman gain determines how much to trust the measurement. It's a function of the predicted uncertainty, the measurement uncertainty R (measurement noise covariance matrix), and the observation model matrix H. H relates the state to the measurement.\n",
    "$$K_{t} = P_{t|t-1} H^{T}(H P_{t|t-1} H^{T} + R)^{-1} $$\n",
    " \n",
    "Update the state estimate: The new state estimate $\\hat x_{t|t}$ is a combination of the predicted state and the measurement $z_{t}$. The difference between the actual measurement and the predicted measurement is called the residual. The residual is weighted by the Kalman gain and added to the predicted state. \n",
    "$$\\hat x_{t|t} = \\hat x_{t|t-1} + K_{t}(z_{t} - H \\hat x_{t|t-1})$$\n",
    "Update the uncertainty: The new uncertainty $P_{t|t}$ is reduced based on the new, more confident state estimate.\n",
    "\n",
    "$$ P_{t|t} = (I - K_{t} H) P_{t|t-1} $$"
   ]
  },
  {
   "cell_type": "code",
   "execution_count": 2,
   "id": "e3f36047-0d36-454b-ad9e-6737f431b29c",
   "metadata": {},
   "outputs": [],
   "source": [
    "class KalmanFilter:\n",
    "    def __init__(self, init_state_vector: np.ndarray=None, init_measurement_vector: np.ndarray=None):\n",
    "        self.state_vector = init_state_vector\n",
    "        self.measurement_vector = init_measurement_vector\n",
    "        self.n = self.state_vector.shape[0]\n",
    "        self.m = self.measurement_vector.shape[0]\n",
    "        assert self.n >= self.m, \"dim of state vector must be greater or equal\\\n",
    "            dim of measurement vector. Otherwise, expand dim of state vector\"\n",
    "        self.F = np.eye(self.n, dtype=float)\n",
    "        self.P = np.eye(self.n, dtype=float) * 0.1\n",
    "        self.H = np.zeros((self.n, self.m), dtype=float)\n",
    "        for i in range(self.m):\n",
    "            self.H[i, i] = 1.0\n",
    "        self.Q = np.eye(self.n, dtype=float) *0.1\n",
    "        self.R = np.eye(self.m, dtype=float) *0.1\n",
    "        self.identity_matrix = np.eye(self.n, dtype=float)\n",
    "\n",
    "        ## This part is a bit tricky\n",
    "\n",
    "    def predict(self):\n",
    "        self.x_hat = np.dot(self.F, self.state_vector)\n",
    "        tmp_result = np.einsum('ij,jk,kl->il', self.F, self.P, self.F.T)\n",
    "        self.predict_P = tmp_result + self.Q\n",
    "\n",
    "    def update(self, measurement_vector):\n",
    "        ## Calculate Kalman gain\n",
    "        total_uncertainty = np.einsum(\"ij,jk,kl->il\", self.H, self.predict_P, self.H.T) + self.R\n",
    "        self.K_gain = np.dot(np.einsum('ij,jk->ik', total_uncertainty, self.H.T), np.linalg.inv(total_uncertainty))\n",
    "        \n",
    "        # Update state estimate\n",
    "        residual_measurement = measurement_vector - np.dot(self.H, self.x_hat)\n",
    "        self.state_vector = self.x_hat + np.dot(self.K_gain, residual_measurement)\n",
    "        self.P = (self.identity_matrix - np.dot(self.K_gain, self.H)) @ self.predict_P\n",
    "        new_state = self.state_vector.copy()\n",
    "        return new_state\n"
   ]
  },
  {
   "cell_type": "code",
   "execution_count": null,
   "id": "ba3d4b34-b688-4d9c-b07c-e82df2fb42f6",
   "metadata": {},
   "outputs": [
    {
     "data": {
      "image/png": "[encoded data removed]",
      "text/plain": [
       "<Figure size 800x600 with 1 Axes>"
      ]
     },
     "metadata": {},
     "output_type": "display_data"
    }
   ],
   "source": [
    "import cv2\n",
    "import numpy as np\n",
    "import math\n",
    "import matplotlib.pyplot as plt\n",
    "from IPython.display import display, clear_output\n",
    "import time\n",
    "\n",
    "# Set up the canvas\n",
    "width, height = 800, 600\n",
    "canvas = np.zeros((height, width, 3), dtype='uint8')\n",
    "\n",
    "# Define the object (a red circle)\n",
    "# Initial position\n",
    "x = 0\n",
    "# Radius\n",
    "radius = 15\n",
    "# Color (BGR format)\n",
    "color = (0, 0, 255)  # Red\n",
    "\n",
    "# Sine wave parameters\n",
    "amplitude = 150\n",
    "frequency = 0.05\n",
    "y_center = height // 2\n",
    "\n",
    "# Set up the plot for animation\n",
    "plt.ion()  # Turn on interactive mode\n",
    "fig, ax = plt.subplots(figsize=(8, 6))\n",
    "\n",
    "init_state_vector = np.array([0, y_center])\n",
    "init_measurement_vector = np.array([0, y_center])\n",
    "kalman_filter = KalmanFilter(init_state_vector, init_measurement_vector)\n",
    "while True:\n",
    "    # Create a blank canvas for the new frame\n",
    "    canvas = np.zeros((height, width, 3), dtype='uint8')\n",
    "\n",
    "    # Update the x position and wrap around the screen\n",
    "    x += 2  # Adjust this value for speed\n",
    "    if x > width:\n",
    "        x = 0\n",
    "\n",
    "    # Calculate the y position using a sine function\n",
    "    y = int(amplitude * math.sin(frequency * x) + y_center)\n",
    "    new_measurement = np.array([x, y])\n",
    "    kalman_filter.predict()\n",
    "    new_state = kalman_filter.update(new_measurement)\n",
    "\n",
    "    # Draw the circle on the canvas\n",
    "    cv2.circle(canvas, (x, y), radius, color, -1)\n",
    "    new_x, new_y = int(new_state[0]), int(new_state[1])\n",
    "    cv2.rectangle(canvas, (new_x-radius, new_y-radius), (new_x+radius, new_y+radius), (255, 0, 255), 2)\n",
    "    # Convert the canvas to RGB for matplotlib\n",
    "    rgb_canvas = cv2.cvtColor(canvas, cv2.COLOR_BGR2RGB)\n",
    "\n",
    "    # Display the frame in the notebook\n",
    "    ax.clear()  # Clear the previous plot\n",
    "    ax.imshow(rgb_canvas)\n",
    "    ax.axis('off')  # Hide the axes\n",
    "    \n",
    "    # Update and clear the output for animation\n",
    "    display(fig)\n",
    "    clear_output(wait=True)\n",
    "    \n",
    "    # Pause for a short duration to control the speed\n",
    "    time.sleep(0.01)\n",
    "\n",
    "    # Note: There's no standard way to handle key presses in a while loop in a Jupyter Notebook.\n",
    "    # To stop the loop, you typically manually interrupt the kernel."
   ]
  },
  {
   "cell_type": "code",
   "execution_count": null,
   "id": "39026ff5-486e-4305-987a-90d51122b723",
   "metadata": {},
   "outputs": [],
   "source": []
  }
 ],
 "metadata": {
  "kernelspec": {
   "display_name": "Python 3 (ipykernel)",
   "language": "python",
   "name": "python3"
  },
  "language_info": {
   "codemirror_mode": {
    "name": "ipython",
    "version": 3
   },
   "file_extension": ".py",
   "mimetype": "text/x-python",
   "name": "python",
   "nbconvert_exporter": "python",
   "pygments_lexer": "ipython3",
   "version": "3.10.12"
  }
 },
 "nbformat": 4,
 "nbformat_minor": 5
}
