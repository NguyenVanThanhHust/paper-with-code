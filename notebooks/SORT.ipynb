{
 "cells": [
  {
   "cell_type": "code",
   "execution_count": 1,
   "id": "50f9c8a3",
   "metadata": {},
   "outputs": [],
   "source": [
    "import numpy as np\n",
    "import matplotlib.pyplot as plt"
   ]
  },
  {
   "cell_type": "markdown",
   "id": "0ba82e44-39fa-4bca-b709-21aafd8135eb",
   "metadata": {},
   "source": [
    "Kalman filter is an algorithm to predict state of the a dynamic system from initial state and noisy measurements. For object tracking, initial state would be object location, velocity of objects in first frame, noisy measurements are location of objects in following frames. We will present it following format: Concept, Math and Code"
   ]
  },
  {
   "cell_type": "markdown",
   "id": "25a3e771-6854-4e7a-9b80-6de2ed2d9d5e",
   "metadata": {},
   "source": [
    "Kalman filter have 2 steps: prediction and update   \n"
   ]
  },
  {
   "cell_type": "markdown",
   "id": "2b023bf0-1dc3-4f55-977e-20e47fabd891",
   "metadata": {},
   "source": [
    "**Predictions**   \n",
    "In this step, algorithm will predict next state of system based on current state. Each state would be presented as a vector and the covariance of it. Because \n",
    "\n",
    "**Update**  \n",
    "In this step, algorigthm get the new measurement and \"update\" predictions. \n"
   ]
  },
  {
   "cell_type": "markdown",
   "id": "f2682e86-1dee-4f64-ad58-54b72be8d4b1",
   "metadata": {},
   "source": [
    "## Math\n",
    "In SORT, state of an object is an vector includes its location and velocity.  $x = [cx, cy, s, r, \\dot cx, \\dot cy, \\dot s, \\dot r]$. Where  \n",
    "- $cx, cy$: center coordinates of the bounding box\n",
    "- $s$: the area of the bounding box\n",
    "- $r$: the ration of width/height\n",
    "- $\\dot cx, \\dot cy, \\dot s, \\dot r$: velocity (rate of change) of above components\n",
    "\n",
    "We would use following notation for the rest of post\n",
    "- $x_{t} \\in R^{n}$: state vector at timestep $t$\n",
    "- $z_{t} \\in R^{m}$: measurement vector at timestep $t$. In our case, it would be location of bounding box. We don't have velocity as in state because we don't measurement veloctiy\n",
    "- $F \\in R^{n \\times n}$: state transition matrix. $F$ represent how state changes by time.\n",
    "- $P \\in R^{n \\times n}$: covariance matrix to represent uncerntainty of state vector.\n",
    "- $P \\in R^{n \\times n}$: \n",
    "### Predictions\n",
    "In this step, we need to predict current state and the covariance of the predicted state. \n",
    "#### Predict state:\n",
    "$\\hat{x}_{k|k-1} = F {x}_{k-1|k-1}$\n",
    "\n",
    "$\\hat{x}_{k|k-1}$ : predicted state at time $k$ based on state at time $k-1$\n",
    "\n",
    "$F$: state transition matrix represents how state of object is updated\n",
    "\n",
    "#### Predict covariance\n",
    "$\\hat{P}_{k|k-1} = F {P}_{k-1|k-1} F^{T} + Q$\n",
    "${P}_{k|k-1}$  is predicted covariance\n",
    "$Q$ is the noise covariance, \n",
    "\n",
    "### Update steps\n",
    "When we have new measurement $z_{k}$, we update the estimate\n",
    "$y_{k} = z_{k} - H \\hat{x}_{k|k-1}$\n",
    "$y_{k}$ : the different between actual measurement $z_{k}$ \n",
    "\n",
    "\n",
    "\n"
   ]
  },
  {
   "cell_type": "code",
   "execution_count": null,
   "id": "ba3d4b34-b688-4d9c-b07c-e82df2fb42f6",
   "metadata": {},
   "outputs": [
    {
     "data": {
      "image/png": "[encoded data removed]",
      "text/plain": [
       "<Figure size 800x600 with 1 Axes>"
      ]
     },
     "metadata": {},
     "output_type": "display_data"
    }
   ],
   "source": [
    "import cv2\n",
    "import numpy as np\n",
    "import math\n",
    "import matplotlib.pyplot as plt\n",
    "from IPython.display import display, clear_output\n",
    "import time\n",
    "\n",
    "# Set up the canvas\n",
    "width, height = 800, 600\n",
    "canvas = np.zeros((height, width, 3), dtype='uint8')\n",
    "\n",
    "# Define the object (a red circle)\n",
    "# Initial position\n",
    "x = 0\n",
    "# Radius\n",
    "radius = 15\n",
    "# Color (BGR format)\n",
    "color = (0, 0, 255)  # Red\n",
    "\n",
    "# Sine wave parameters\n",
    "amplitude = 150\n",
    "frequency = 0.05\n",
    "y_center = height // 2\n",
    "\n",
    "# Set up the plot for animation\n",
    "plt.ion()  # Turn on interactive mode\n",
    "fig, ax = plt.subplots(figsize=(8, 6))\n",
    "\n",
    "while True:\n",
    "    # Create a blank canvas for the new frame\n",
    "    canvas = np.zeros((height, width, 3), dtype='uint8')\n",
    "\n",
    "    # Update the x position and wrap around the screen\n",
    "    x += 2  # Adjust this value for speed\n",
    "    if x > width:\n",
    "        x = 0\n",
    "\n",
    "    # Calculate the y position using a sine function\n",
    "    y = int(amplitude * math.sin(frequency * x) + y_center)\n",
    "\n",
    "    # Draw the circle on the canvas\n",
    "    cv2.circle(canvas, (x, y), radius, color, -1)\n",
    "\n",
    "    # Convert the canvas to RGB for matplotlib\n",
    "    rgb_canvas = cv2.cvtColor(canvas, cv2.COLOR_BGR2RGB)\n",
    "\n",
    "    # Display the frame in the notebook\n",
    "    ax.clear()  # Clear the previous plot\n",
    "    ax.imshow(rgb_canvas)\n",
    "    ax.axis('off')  # Hide the axes\n",
    "    \n",
    "    # Update and clear the output for animation\n",
    "    display(fig)\n",
    "    clear_output(wait=True)\n",
    "    \n",
    "    # Pause for a short duration to control the speed\n",
    "    time.sleep(0.01)\n",
    "\n",
    "    # Note: There's no standard way to handle key presses in a while loop in a Jupyter Notebook.\n",
    "    # To stop the loop, you typically manually interrupt the kernel."
   ]
  },
  {
   "cell_type": "code",
   "execution_count": null,
   "id": "39026ff5-486e-4305-987a-90d51122b723",
   "metadata": {},
   "outputs": [],
   "source": []
  }
 ],
 "metadata": {
  "kernelspec": {
   "display_name": "Python 3 (ipykernel)",
   "language": "python",
   "name": "python3"
  },
  "language_info": {
   "codemirror_mode": {
    "name": "ipython",
    "version": 3
   },
   "file_extension": ".py",
   "mimetype": "text/x-python",
   "name": "python",
   "nbconvert_exporter": "python",
   "pygments_lexer": "ipython3",
   "version": "3.12.0rc3"
  }
 },
 "nbformat": 4,
 "nbformat_minor": 5
}
